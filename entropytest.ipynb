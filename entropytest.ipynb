{
 "cells": [
  {
   "cell_type": "code",
   "execution_count": 11,
   "metadata": {},
   "outputs": [
    {
     "data": {
      "text/plain": [
       "2.4193819456463714"
      ]
     },
     "execution_count": 11,
     "metadata": {},
     "output_type": "execute_result"
    }
   ],
   "source": [
    "import pandas as pd\n",
    "import math\n",
    "from collections import Counter\n",
    "data1=pd.read_csv('./desktop/class1_19.csv')\n",
    "#data=\n",
    "def entropy(s):\n",
    "    p, lns = Counter(s),float(len(s))\n",
    "    return -sum(count/lns * math.log(count/lns,2)for count in p.values())\n",
    "entropy(\"data1[11]\") # 첫번째꺼 엔트로피\n",
    "#entropy(\"data1.iloc[1,0]\") # 두번쨰꺼 엔트로피\n",
    "#dga_1st_round_train['domain'].str.len()\n",
    "#len(dga_1st_round_train['domain'][0])"
   ]
  },
  {
   "cell_type": "code",
   "execution_count": 57,
   "metadata": {},
   "outputs": [
    {
     "data": {
      "text/plain": [
       "[('v',),\n",
       " ('s',),\n",
       " ('v',),\n",
       " ('i',),\n",
       " ('q',),\n",
       " ('e',),\n",
       " ('.',),\n",
       " ('c',),\n",
       " ('o',),\n",
       " ('m',)]"
      ]
     },
     "execution_count": 57,
     "metadata": {},
     "output_type": "execute_result"
    }
   ],
   "source": [
    "def n_gram(sentence, num_gram):# num_gram 1로 받으면onegram //3으로 받으면 3gram\n",
    "  text = tuple(sentence) # split the sentence into an array of characters\n",
    "  ngrams = [text[x:x+num_gram] for x in range(0, len(text))]\n",
    "  return ngrams\n",
    "def make_freqlist(ngrams):#글자 몇번나오는지 계산하는 함수\n",
    "    freqlist={}\n",
    "    for ngram in ngrams:\n",
    "        if(ngram in freqlist):\n",
    "            freqlist[ngram] += 1\n",
    "        else:\n",
    "            freqlist[ngram] = 1\n",
    "    return freqlist\n",
    "ngrams = n_gram(data1.iloc[0,0],1)\n",
    "freqlist = make_freqlist(ngrams)\n",
    "ngrams\n",
    "\n",
    "\n",
    "#sorted_freqlist= sorted(freqlist.items(),key=operator.itemgetter(1))\n",
    "#print(sorted_freqlist)"
   ]
  },
  {
   "cell_type": "code",
   "execution_count": null,
   "metadata": {},
   "outputs": [],
   "source": [
    "# def ngram(s,num):\n",
    "    res =[]\n",
    "    slen = len(s)-num+1\n",
    "    for i in range(slen):\n",
    "        ss=s[i:i+num]\n",
    "        res.append(ss)\n",
    "    return res\n",
    "def diff_ngram(sa,sb,num):\n",
    "    a= ngram(sa,num)\n",
    "    b= ngram(sb,num)\n",
    "    r=[]\n",
    "    cnt=0\n",
    "    for i in a:\n",
    "        for j in b:\n",
    "            if i==j:\n",
    "                cnt+=1\n",
    "                r.append(i)\n",
    "    return cnt/len(a)\n",
    "a='오늘 강남에서 맛있는 스파게티를 먹었다.'\n",
    "b='강남에서 이상한 나도 모르겠다.'\n",
    "r2=diff_ngram(a,b,4)\n",
    "print('2-gram:',r2)\n",
    "\n"
   ]
  },
  {
   "cell_type": "code",
   "execution_count": 12,
   "metadata": {
    "scrolled": true
   },
   "outputs": [
    {
     "ename": "ModuleNotFoundError",
     "evalue": "No module named 'ngram'",
     "output_type": "error",
     "traceback": [
      "\u001b[1;31m---------------------------------------------------------------------------\u001b[0m",
      "\u001b[1;31mModuleNotFoundError\u001b[0m                       Traceback (most recent call last)",
      "\u001b[1;32m<ipython-input-12-400f6f118be6>\u001b[0m in \u001b[0;36m<module>\u001b[1;34m\u001b[0m\n\u001b[1;32m----> 1\u001b[1;33m \u001b[1;32mfrom\u001b[0m \u001b[0mngram\u001b[0m \u001b[1;32mimport\u001b[0m \u001b[0mNGram\u001b[0m\u001b[1;33m\u001b[0m\u001b[1;33m\u001b[0m\u001b[0m\n\u001b[0m\u001b[0;32m      2\u001b[0m \u001b[1;33m\u001b[0m\u001b[0m\n\u001b[0;32m      3\u001b[0m \u001b[0mdata2\u001b[0m\u001b[1;33m=\u001b[0m\u001b[0mpd\u001b[0m\u001b[1;33m.\u001b[0m\u001b[0mread_csv\u001b[0m\u001b[1;33m(\u001b[0m\u001b[1;34mr'sld_minus.csv'\u001b[0m\u001b[1;33m,\u001b[0m \u001b[0mdtype\u001b[0m\u001b[1;33m=\u001b[0m\u001b[1;33m{\u001b[0m\u001b[1;34m\"sld_minus\"\u001b[0m \u001b[1;33m:\u001b[0m \u001b[1;34m\"str\"\u001b[0m\u001b[1;33m}\u001b[0m\u001b[1;33m)\u001b[0m\u001b[1;33m\u001b[0m\u001b[1;33m\u001b[0m\u001b[0m\n\u001b[0;32m      4\u001b[0m \u001b[0mblist\u001b[0m \u001b[1;33m=\u001b[0m \u001b[1;33m[\u001b[0m\u001b[1;33m]\u001b[0m\u001b[1;33m\u001b[0m\u001b[1;33m\u001b[0m\u001b[0m\n\u001b[0;32m      5\u001b[0m \u001b[0mn\u001b[0m \u001b[1;33m=\u001b[0m \u001b[0mNGram\u001b[0m\u001b[1;33m(\u001b[0m\u001b[0mkey\u001b[0m\u001b[1;33m=\u001b[0m\u001b[1;32mlambda\u001b[0m \u001b[0mx\u001b[0m\u001b[1;33m:\u001b[0m\u001b[0mx\u001b[0m\u001b[1;33m[\u001b[0m\u001b[1;36m1\u001b[0m\u001b[1;33m]\u001b[0m\u001b[1;33m)\u001b[0m\u001b[1;33m\u001b[0m\u001b[1;33m\u001b[0m\u001b[0m\n",
      "\u001b[1;31mModuleNotFoundError\u001b[0m: No module named 'ngram'"
     ]
    }
   ],
   "source": [
    "from ngram import NGram\n",
    "\n",
    "data2=pd.read_csv(r'sld_minus.csv', dtype={\"sld_minus\" : \"str\"})\n",
    "blist = []\n",
    "n = NGram(key=lambda x:x[1])\n",
    "\n",
    "for i in data2.sld_minus:\n",
    "    i = str(i)\n",
    "    try:\n",
    "        item = (3, i)\n",
    "        c = list(n.splititem(item))\n",
    "        blist.append(c)\n",
    "    except:\n",
    "        print(i)\n",
    "        \n",
    "#dataframe = pd.DataFrame(blist)\n",
    "#dataframe.to_csv(\"test_ngram_list.csv\")\n",
    "print(blist[0])"
   ]
  },
  {
   "cell_type": "code",
   "execution_count": 86,
   "metadata": {},
   "outputs": [
    {
     "data": {
      "text/plain": [
       "282641"
      ]
     },
     "execution_count": 86,
     "metadata": {},
     "output_type": "execute_result"
    }
   ],
   "source": [
    "import pandas as pd\n",
    "import math\n",
    "from collections import Counter\n",
    "data=pd.read_csv('./desktop/class_19_addTld.csv')\n",
    "data1=pd.read_csv('./class_19.csv')\n",
    "data2=pd.read_csv('./tld_19.csv')\n",
    "len(data)"
   ]
  },
  {
   "cell_type": "code",
   "execution_count": 87,
   "metadata": {
    "scrolled": true
   },
   "outputs": [
    {
     "data": {
      "text/plain": [
       "282640"
      ]
     },
     "execution_count": 87,
     "metadata": {},
     "output_type": "execute_result"
    }
   ],
   "source": [
    "len(data1)"
   ]
  },
  {
   "cell_type": "code",
   "execution_count": 95,
   "metadata": {},
   "outputs": [
    {
     "data": {
      "text/plain": [
       "3.89861285480185"
      ]
     },
     "execution_count": 95,
     "metadata": {},
     "output_type": "execute_result"
    }
   ],
   "source": [
    "import math\n",
    "def entropy(string):\n",
    "    prob = [ float(string.count(c)) / len(string) for c in dict.fromkeys(list(string)) ]\n",
    "    entropy = - sum([ p * math.log(p) / math.log(2.0) for p in prob ])\n",
    "    return entropy\n",
    "entropy(\"170qknj1onn4c37qf1w71rzei1h\")\n",
    "\n",
    "# def entropy_ideal(length):\n",
    "#         \"Calculates the ideal Shannon entropy of a string with given length\"\n",
    "\n",
    "#         prob = 1.0 / length\n",
    "\n",
    "#         return -1.0 * length * prob * math.log(prob) / math.log(2.0)"
   ]
  },
  {
   "cell_type": "code",
   "execution_count": 94,
   "metadata": {},
   "outputs": [
    {
     "ename": "ValueError",
     "evalue": "object of too small depth for desired array",
     "output_type": "error",
     "traceback": [
      "\u001b[1;31m---------------------------------------------------------------------------\u001b[0m",
      "\u001b[1;31mValueError\u001b[0m                                Traceback (most recent call last)",
      "\u001b[1;32m<ipython-input-94-36ce0856a4c6>\u001b[0m in \u001b[0;36m<module>\u001b[1;34m\u001b[0m\n\u001b[0;32m     13\u001b[0m         \u001b[0ment\u001b[0m\u001b[1;33m-=\u001b[0m\u001b[0mi\u001b[0m\u001b[1;33m*\u001b[0m\u001b[0mlog\u001b[0m\u001b[1;33m(\u001b[0m\u001b[0mi\u001b[0m\u001b[1;33m,\u001b[0m\u001b[0mbase\u001b[0m\u001b[1;33m=\u001b[0m\u001b[0mn_classes\u001b[0m\u001b[1;33m)\u001b[0m\u001b[1;33m\u001b[0m\u001b[1;33m\u001b[0m\u001b[0m\n\u001b[0;32m     14\u001b[0m     \u001b[1;32mreturn\u001b[0m \u001b[0ment\u001b[0m\u001b[1;33m\u001b[0m\u001b[1;33m\u001b[0m\u001b[0m\n\u001b[1;32m---> 15\u001b[1;33m \u001b[0mentropy2\u001b[0m\u001b[1;33m(\u001b[0m\u001b[1;34m\"170qknj1onn4c37qf1w71rzei1haaaaaaaaaaaaaaaaaaaaaaaaaaaaaaaaaaaaaaaaaaaaaaaaaaaaaaaa\"\u001b[0m\u001b[1;33m)\u001b[0m\u001b[1;33m\u001b[0m\u001b[1;33m\u001b[0m\u001b[0m\n\u001b[0m\u001b[0;32m     16\u001b[0m \u001b[1;31m# def entropy(s):\u001b[0m\u001b[1;33m\u001b[0m\u001b[1;33m\u001b[0m\u001b[1;33m\u001b[0m\u001b[0m\n\u001b[0;32m     17\u001b[0m \u001b[1;31m#     p, lns = Counter(s),float(len(s))\u001b[0m\u001b[1;33m\u001b[0m\u001b[1;33m\u001b[0m\u001b[1;33m\u001b[0m\u001b[0m\n",
      "\u001b[1;32m<ipython-input-94-36ce0856a4c6>\u001b[0m in \u001b[0;36mentropy2\u001b[1;34m(labels)\u001b[0m\n\u001b[0;32m      4\u001b[0m     \u001b[1;32mif\u001b[0m \u001b[0mn_labels\u001b[0m\u001b[1;33m<=\u001b[0m\u001b[1;36m1\u001b[0m\u001b[1;33m:\u001b[0m\u001b[1;33m\u001b[0m\u001b[1;33m\u001b[0m\u001b[0m\n\u001b[0;32m      5\u001b[0m         \u001b[1;32mreturn\u001b[0m \u001b[1;36m0\u001b[0m\u001b[1;33m\u001b[0m\u001b[1;33m\u001b[0m\u001b[0m\n\u001b[1;32m----> 6\u001b[1;33m     \u001b[0mcounts\u001b[0m\u001b[1;33m=\u001b[0m\u001b[0mnp\u001b[0m\u001b[1;33m.\u001b[0m\u001b[0mbincount\u001b[0m\u001b[1;33m(\u001b[0m\u001b[0mlabels\u001b[0m\u001b[1;33m)\u001b[0m\u001b[1;33m\u001b[0m\u001b[1;33m\u001b[0m\u001b[0m\n\u001b[0m\u001b[0;32m      7\u001b[0m     \u001b[0mprobs\u001b[0m\u001b[1;33m=\u001b[0m\u001b[0mcounts\u001b[0m\u001b[1;33m/\u001b[0m\u001b[0mn_labels\u001b[0m\u001b[1;33m\u001b[0m\u001b[1;33m\u001b[0m\u001b[0m\n\u001b[0;32m      8\u001b[0m     \u001b[0mn_classes\u001b[0m\u001b[1;33m=\u001b[0m\u001b[0mnp\u001b[0m\u001b[1;33m.\u001b[0m\u001b[0mcount_nonzero\u001b[0m\u001b[1;33m(\u001b[0m\u001b[0mprobs\u001b[0m\u001b[1;33m)\u001b[0m\u001b[1;33m\u001b[0m\u001b[1;33m\u001b[0m\u001b[0m\n",
      "\u001b[1;31mValueError\u001b[0m: object of too small depth for desired array"
     ]
    }
   ],
   "source": [
    "import numpy as np\n",
    "def entropy2(labels):\n",
    "    n_labels=len(labels)\n",
    "    if n_labels<=1:\n",
    "        return 0\n",
    "    counts=np.bincount(labels)\n",
    "    probs=counts/n_labels\n",
    "    n_classes=np.count_nonzero(probs)\n",
    "    if n_classes<=1:\n",
    "        return 0\n",
    "    ent=0.\n",
    "    for i in probs:\n",
    "        ent-=i*log(i,base=n_classes)\n",
    "    return ent\n",
    "entropy2(\"170qknj1onn4c37qf1w71rzei1h\")\n",
    "# def entropy(s):\n",
    "#     p, lns = Counter(s),float(len(s))\n",
    "#     return -sum(count/lns * math.log(count/lns,2)for count in p.values())"
   ]
  }
 ],
 "metadata": {
  "kernelspec": {
   "display_name": "Python 3",
   "language": "python",
   "name": "python3"
  },
  "language_info": {
   "codemirror_mode": {
    "name": "ipython",
    "version": 3
   },
   "file_extension": ".py",
   "mimetype": "text/x-python",
   "name": "python",
   "nbconvert_exporter": "python",
   "pygments_lexer": "ipython3",
   "version": "3.7.4"
  }
 },
 "nbformat": 4,
 "nbformat_minor": 2
}
